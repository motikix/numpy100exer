{
 "cells": [
  {
   "cell_type": "markdown",
   "metadata": {},
   "source": [
    "[100 numpy exercises - A joint effort of the numpy community](http://www.labri.fr/perso/nrougier/teaching/numpy.100/)"
   ]
  },
  {
   "cell_type": "markdown",
   "metadata": {
    "toc": true
   },
   "source": [
    "<h1>Table of Contents<span class=\"tocSkip\"></span></h1>\n",
    "<div class=\"toc\"><ul class=\"toc-item\"><li><span><a href=\"#100-numpy-exercises\" data-toc-modified-id=\"100-numpy-exercises-1\"><span class=\"toc-item-num\">1&nbsp;&nbsp;</span>100 numpy exercises</a></span><ul class=\"toc-item\"><li><span><a href=\"#1-^-25\" data-toc-modified-id=\"1-^-25-1.1\"><span class=\"toc-item-num\">1.1&nbsp;&nbsp;</span>1 ^ 25</a></span><ul class=\"toc-item\"><li><span><a href=\"#Import-the-numpy-package-under-the-name-np-(★☆☆)\" data-toc-modified-id=\"Import-the-numpy-package-under-the-name-np-(★☆☆)-1.1.1\"><span class=\"toc-item-num\">1.1.1&nbsp;&nbsp;</span>Import the numpy package under the name np (★☆☆)</a></span></li><li><span><a href=\"#Print-the-numpy-version-and-the-configuration-(★☆☆)\" data-toc-modified-id=\"Print-the-numpy-version-and-the-configuration-(★☆☆)-1.1.2\"><span class=\"toc-item-num\">1.1.2&nbsp;&nbsp;</span>Print the numpy version and the configuration (★☆☆)</a></span></li><li><span><a href=\"#Create-a-null-vector-of-size-10-(★☆☆)\" data-toc-modified-id=\"Create-a-null-vector-of-size-10-(★☆☆)-1.1.3\"><span class=\"toc-item-num\">1.1.3&nbsp;&nbsp;</span>Create a null vector of size 10 (★☆☆)</a></span></li><li><span><a href=\"#How-to-find-the-memory-size-of-any-array-(★☆☆)\" data-toc-modified-id=\"How-to-find-the-memory-size-of-any-array-(★☆☆)-1.1.4\"><span class=\"toc-item-num\">1.1.4&nbsp;&nbsp;</span>How to find the memory size of any array (★☆☆)</a></span></li><li><span><a href=\"#How-to-get-the-documentation-of-the-numpy-add-function-from-the-command-line?-(★☆☆)\" data-toc-modified-id=\"How-to-get-the-documentation-of-the-numpy-add-function-from-the-command-line?-(★☆☆)-1.1.5\"><span class=\"toc-item-num\">1.1.5&nbsp;&nbsp;</span>How to get the documentation of the numpy add function from the command line? (★☆☆)</a></span></li><li><span><a href=\"#Create-a-null-vector-of-size-10-but-the-fifth-value-which-is-1-(★☆☆)\" data-toc-modified-id=\"Create-a-null-vector-of-size-10-but-the-fifth-value-which-is-1-(★☆☆)-1.1.6\"><span class=\"toc-item-num\">1.1.6&nbsp;&nbsp;</span>Create a null vector of size 10 but the fifth value which is 1 (★☆☆)</a></span></li><li><span><a href=\"#Create-a-vector-with-values-ranging-from-10-to-49-(★☆☆)\" data-toc-modified-id=\"Create-a-vector-with-values-ranging-from-10-to-49-(★☆☆)-1.1.7\"><span class=\"toc-item-num\">1.1.7&nbsp;&nbsp;</span>Create a vector with values ranging from 10 to 49 (★☆☆)</a></span></li><li><span><a href=\"#Reverse-a-vector-(first-element-becomes-last)-(★☆☆)\" data-toc-modified-id=\"Reverse-a-vector-(first-element-becomes-last)-(★☆☆)-1.1.8\"><span class=\"toc-item-num\">1.1.8&nbsp;&nbsp;</span>Reverse a vector (first element becomes last) (★☆☆)</a></span></li><li><span><a href=\"#Create-a-3x3-matrix-with-values-ranging-from-0-to-8-(★☆☆)\" data-toc-modified-id=\"Create-a-3x3-matrix-with-values-ranging-from-0-to-8-(★☆☆)-1.1.9\"><span class=\"toc-item-num\">1.1.9&nbsp;&nbsp;</span>Create a 3x3 matrix with values ranging from 0 to 8 (★☆☆)</a></span></li><li><span><a href=\"#Find-indices-of-non-zero-elements-from-[1,2,0,0,4,0]-(★☆☆)\" data-toc-modified-id=\"Find-indices-of-non-zero-elements-from-[1,2,0,0,4,0]-(★☆☆)-1.1.10\"><span class=\"toc-item-num\">1.1.10&nbsp;&nbsp;</span>Find indices of non-zero elements from [1,2,0,0,4,0] (★☆☆)</a></span></li><li><span><a href=\"#Create-a-3x3-identity-matrix-(★☆☆)\" data-toc-modified-id=\"Create-a-3x3-identity-matrix-(★☆☆)-1.1.11\"><span class=\"toc-item-num\">1.1.11&nbsp;&nbsp;</span>Create a 3x3 identity matrix (★☆☆)</a></span></li><li><span><a href=\"#Create-a-3x3x3-array-with-random-values-(★☆☆)\" data-toc-modified-id=\"Create-a-3x3x3-array-with-random-values-(★☆☆)-1.1.12\"><span class=\"toc-item-num\">1.1.12&nbsp;&nbsp;</span>Create a 3x3x3 array with random values (★☆☆)</a></span></li><li><span><a href=\"#Create-a-10x10-array-with-random-values-and-find-the-minimum-and-maximum-values-(★☆☆)\" data-toc-modified-id=\"Create-a-10x10-array-with-random-values-and-find-the-minimum-and-maximum-values-(★☆☆)-1.1.13\"><span class=\"toc-item-num\">1.1.13&nbsp;&nbsp;</span>Create a 10x10 array with random values and find the minimum and maximum values (★☆☆)</a></span></li><li><span><a href=\"#Create-a-random-vector-of-size-30-and-find-the-mean-value-(★☆☆)\" data-toc-modified-id=\"Create-a-random-vector-of-size-30-and-find-the-mean-value-(★☆☆)-1.1.14\"><span class=\"toc-item-num\">1.1.14&nbsp;&nbsp;</span>Create a random vector of size 30 and find the mean value (★☆☆)</a></span></li><li><span><a href=\"#Create-a-2d-array-with-1-on-the-border-and-0-inside-(★☆☆)\" data-toc-modified-id=\"Create-a-2d-array-with-1-on-the-border-and-0-inside-(★☆☆)-1.1.15\"><span class=\"toc-item-num\">1.1.15&nbsp;&nbsp;</span>Create a 2d array with 1 on the border and 0 inside (★☆☆)</a></span></li><li><span><a href=\"#How-to-add-a-border-(filled-with-0's)-around-an-existing-array?-(★☆☆)\" data-toc-modified-id=\"How-to-add-a-border-(filled-with-0's)-around-an-existing-array?-(★☆☆)-1.1.16\"><span class=\"toc-item-num\">1.1.16&nbsp;&nbsp;</span>How to add a border (filled with 0's) around an existing array? (★☆☆)</a></span></li><li><span><a href=\"#What-is-the-result-of-the-following-expression?-(★☆☆)\" data-toc-modified-id=\"What-is-the-result-of-the-following-expression?-(★☆☆)-1.1.17\"><span class=\"toc-item-num\">1.1.17&nbsp;&nbsp;</span>What is the result of the following expression? (★☆☆)</a></span></li><li><span><a href=\"#Create-a-5x5-matrix-with-values-1,2,3,4-just-below-the-diagonal-(★☆☆)\" data-toc-modified-id=\"Create-a-5x5-matrix-with-values-1,2,3,4-just-below-the-diagonal-(★☆☆)-1.1.18\"><span class=\"toc-item-num\">1.1.18&nbsp;&nbsp;</span>Create a 5x5 matrix with values 1,2,3,4 just below the diagonal (★☆☆)</a></span></li><li><span><a href=\"#Create-a-8x8-matrix-and-fill-it-with-a-checkerboard-pattern-(★☆☆)\" data-toc-modified-id=\"Create-a-8x8-matrix-and-fill-it-with-a-checkerboard-pattern-(★☆☆)-1.1.19\"><span class=\"toc-item-num\">1.1.19&nbsp;&nbsp;</span>Create a 8x8 matrix and fill it with a checkerboard pattern (★☆☆)</a></span></li><li><span><a href=\"#Consider-a-(6,7,8)-shape-array,-what-is-the-index-(x,y,z)-of-the-100th-element?\" data-toc-modified-id=\"Consider-a-(6,7,8)-shape-array,-what-is-the-index-(x,y,z)-of-the-100th-element?-1.1.20\"><span class=\"toc-item-num\">1.1.20&nbsp;&nbsp;</span>Consider a (6,7,8) shape array, what is the index (x,y,z) of the 100th element?</a></span></li><li><span><a href=\"#Create-a-checkerboard-8x8-matrix-using-the-tile-function-(★☆☆)\" data-toc-modified-id=\"Create-a-checkerboard-8x8-matrix-using-the-tile-function-(★☆☆)-1.1.21\"><span class=\"toc-item-num\">1.1.21&nbsp;&nbsp;</span>Create a checkerboard 8x8 matrix using the tile function (★☆☆)</a></span></li><li><span><a href=\"#Normalize-a-5x5-random-matrix-(★☆☆)\" data-toc-modified-id=\"Normalize-a-5x5-random-matrix-(★☆☆)-1.1.22\"><span class=\"toc-item-num\">1.1.22&nbsp;&nbsp;</span>Normalize a 5x5 random matrix (★☆☆)</a></span></li><li><span><a href=\"#Create-a-custom-dtype-that-describes-a-color-as-four-unsigned-bytes-(RGBA)-(★☆☆)\" data-toc-modified-id=\"Create-a-custom-dtype-that-describes-a-color-as-four-unsigned-bytes-(RGBA)-(★☆☆)-1.1.23\"><span class=\"toc-item-num\">1.1.23&nbsp;&nbsp;</span>Create a custom dtype that describes a color as four unsigned bytes (RGBA) (★☆☆)</a></span></li><li><span><a href=\"#Multiply-a-5x3-matrix-by-a-3x2-matrix-(real-matrix-product)-(★☆☆)\" data-toc-modified-id=\"Multiply-a-5x3-matrix-by-a-3x2-matrix-(real-matrix-product)-(★☆☆)-1.1.24\"><span class=\"toc-item-num\">1.1.24&nbsp;&nbsp;</span>Multiply a 5x3 matrix by a 3x2 matrix (real matrix product) (★☆☆)</a></span></li><li><span><a href=\"#Given-a-1D-array,-negate-all-elements-which-are-between-3-and-8,-in-place.-(★☆☆)\" data-toc-modified-id=\"Given-a-1D-array,-negate-all-elements-which-are-between-3-and-8,-in-place.-(★☆☆)-1.1.25\"><span class=\"toc-item-num\">1.1.25&nbsp;&nbsp;</span>Given a 1D array, negate all elements which are between 3 and 8, in place. (★☆☆)</a></span></li></ul></li></ul></li></ul></div>"
   ]
  },
  {
   "cell_type": "markdown",
   "metadata": {},
   "source": [
    "100 numpy exercises\n",
    "==="
   ]
  },
  {
   "cell_type": "markdown",
   "metadata": {},
   "source": [
    "1 ^ 25\n",
    "---"
   ]
  },
  {
   "cell_type": "markdown",
   "metadata": {},
   "source": [
    "### Import the numpy package under the name np (★☆☆)"
   ]
  },
  {
   "cell_type": "code",
   "execution_count": 1,
   "metadata": {},
   "outputs": [],
   "source": [
    "import numpy as np"
   ]
  },
  {
   "cell_type": "markdown",
   "metadata": {},
   "source": [
    "### Print the numpy version and the configuration (★☆☆)"
   ]
  },
  {
   "cell_type": "code",
   "execution_count": 2,
   "metadata": {
    "scrolled": true
   },
   "outputs": [
    {
     "name": "stdout",
     "output_type": "stream",
     "text": [
      "1.16.1\n",
      "blas_mkl_info:\n",
      "  NOT AVAILABLE\n",
      "blis_info:\n",
      "  NOT AVAILABLE\n",
      "openblas_info:\n",
      "    libraries = ['openblas', 'openblas']\n",
      "    library_dirs = ['/usr/local/lib']\n",
      "    language = c\n",
      "    define_macros = [('HAVE_CBLAS', None)]\n",
      "blas_opt_info:\n",
      "    libraries = ['openblas', 'openblas']\n",
      "    library_dirs = ['/usr/local/lib']\n",
      "    language = c\n",
      "    define_macros = [('HAVE_CBLAS', None)]\n",
      "lapack_mkl_info:\n",
      "  NOT AVAILABLE\n",
      "openblas_lapack_info:\n",
      "    libraries = ['openblas', 'openblas']\n",
      "    library_dirs = ['/usr/local/lib']\n",
      "    language = c\n",
      "    define_macros = [('HAVE_CBLAS', None)]\n",
      "lapack_opt_info:\n",
      "    libraries = ['openblas', 'openblas']\n",
      "    library_dirs = ['/usr/local/lib']\n",
      "    language = c\n",
      "    define_macros = [('HAVE_CBLAS', None)]\n"
     ]
    }
   ],
   "source": [
    "print(np.__version__)\n",
    "np.show_config()"
   ]
  },
  {
   "cell_type": "markdown",
   "metadata": {},
   "source": [
    "### Create a null vector of size 10 (★☆☆)"
   ]
  },
  {
   "cell_type": "code",
   "execution_count": 3,
   "metadata": {},
   "outputs": [
    {
     "name": "stdout",
     "output_type": "stream",
     "text": [
      "[0. 0. 0. 0. 0. 0. 0. 0. 0. 0.]\n"
     ]
    }
   ],
   "source": [
    "Z = np.zeros(10)\n",
    "print(Z)"
   ]
  },
  {
   "cell_type": "markdown",
   "metadata": {},
   "source": [
    "### How to find the memory size of any array (★☆☆)"
   ]
  },
  {
   "cell_type": "code",
   "execution_count": 4,
   "metadata": {},
   "outputs": [
    {
     "name": "stdout",
     "output_type": "stream",
     "text": [
      "size:  10\n",
      "itemsize:  8\n"
     ]
    }
   ],
   "source": [
    "print('size: ', Z.size)\n",
    "print('itemsize: ', Z.itemsize)"
   ]
  },
  {
   "cell_type": "markdown",
   "metadata": {},
   "source": [
    "### How to get the documentation of the numpy add function from the command line? (★☆☆)"
   ]
  },
  {
   "cell_type": "markdown",
   "metadata": {},
   "source": [
    "```bash\n",
    "$ python3 -c \"import numpy; numpy.info(numpy.add)\"\n",
    "```"
   ]
  },
  {
   "cell_type": "code",
   "execution_count": 5,
   "metadata": {
    "scrolled": true
   },
   "outputs": [
    {
     "name": "stdout",
     "output_type": "stream",
     "text": [
      "add(x1, x2, /, out=None, *, where=True, casting='same_kind', order='K', dtype=None, subok=True[, signature, extobj])\n",
      "\n",
      "Add arguments element-wise.\n",
      "\n",
      "Parameters\n",
      "----------\n",
      "x1, x2 : array_like\n",
      "    The arrays to be added.  If ``x1.shape != x2.shape``, they must be\n",
      "    broadcastable to a common shape (which may be the shape of one or\n",
      "    the other).\n",
      "out : ndarray, None, or tuple of ndarray and None, optional\n",
      "    A location into which the result is stored. If provided, it must have\n",
      "    a shape that the inputs broadcast to. If not provided or `None`,\n",
      "    a freshly-allocated array is returned. A tuple (possible only as a\n",
      "    keyword argument) must have length equal to the number of outputs.\n",
      "where : array_like, optional\n",
      "    Values of True indicate to calculate the ufunc at that position, values\n",
      "    of False indicate to leave the value in the output alone.\n",
      "**kwargs\n",
      "    For other keyword-only arguments, see the\n",
      "    :ref:`ufunc docs <ufuncs.kwargs>`.\n",
      "\n",
      "Returns\n",
      "-------\n",
      "add : ndarray or scalar\n",
      "    The sum of `x1` and `x2`, element-wise.\n",
      "    This is a scalar if both `x1` and `x2` are scalars.\n",
      "\n",
      "Notes\n",
      "-----\n",
      "Equivalent to `x1` + `x2` in terms of array broadcasting.\n",
      "\n",
      "Examples\n",
      "--------\n",
      ">>> np.add(1.0, 4.0)\n",
      "5.0\n",
      ">>> x1 = np.arange(9.0).reshape((3, 3))\n",
      ">>> x2 = np.arange(3.0)\n",
      ">>> np.add(x1, x2)\n",
      "array([[  0.,   2.,   4.],\n",
      "       [  3.,   5.,   7.],\n",
      "       [  6.,   8.,  10.]])\n"
     ]
    }
   ],
   "source": [
    "# from program\n",
    "np.info(np.add)"
   ]
  },
  {
   "cell_type": "markdown",
   "metadata": {},
   "source": [
    "### Create a null vector of size 10 but the fifth value which is 1 (★☆☆)"
   ]
  },
  {
   "cell_type": "code",
   "execution_count": 6,
   "metadata": {},
   "outputs": [
    {
     "name": "stdout",
     "output_type": "stream",
     "text": [
      "[0. 0. 0. 0. 1. 0. 0. 0. 0. 0.]\n"
     ]
    }
   ],
   "source": [
    "Z = np.zeros(10)\n",
    "Z[4] = 1\n",
    "print(Z)"
   ]
  },
  {
   "cell_type": "markdown",
   "metadata": {},
   "source": [
    "### Create a vector with values ranging from 10 to 49 (★☆☆)"
   ]
  },
  {
   "cell_type": "code",
   "execution_count": 7,
   "metadata": {},
   "outputs": [
    {
     "name": "stdout",
     "output_type": "stream",
     "text": [
      "[10 11 12 13 14 15 16 17 18 19 20 21 22 23 24 25 26 27 28 29 30 31 32 33\n",
      " 34 35 36 37 38 39 40 41 42 43 44 45 46 47 48 49]\n"
     ]
    }
   ],
   "source": [
    "# numpy.arrange(start, end)\n",
    "# end は含まない\n",
    "Z = np.arange(10, 50)\n",
    "print(Z)"
   ]
  },
  {
   "cell_type": "markdown",
   "metadata": {},
   "source": [
    "### Reverse a vector (first element becomes last) (★☆☆)"
   ]
  },
  {
   "cell_type": "code",
   "execution_count": 8,
   "metadata": {},
   "outputs": [
    {
     "name": "stdout",
     "output_type": "stream",
     "text": [
      "[49 48 47 46 45 44 43 42 41 40 39 38 37 36 35 34 33 32 31 30 29 28 27 26\n",
      " 25 24 23 22 21 20 19 18 17 16 15 14 13 12 11 10  9  8  7  6  5  4  3  2\n",
      "  1  0]\n"
     ]
    }
   ],
   "source": [
    "Z = np.arange(50)\n",
    "Z = Z[::-1]\n",
    "print(Z)"
   ]
  },
  {
   "cell_type": "markdown",
   "metadata": {},
   "source": [
    "### Create a 3x3 matrix with values ranging from 0 to 8 (★☆☆)"
   ]
  },
  {
   "cell_type": "code",
   "execution_count": 9,
   "metadata": {},
   "outputs": [
    {
     "name": "stdout",
     "output_type": "stream",
     "text": [
      "[[0 1 2]\n",
      " [3 4 5]\n",
      " [6 7 8]]\n"
     ]
    }
   ],
   "source": [
    "Z = np.arange(9).reshape(3,3)\n",
    "print(Z)\n",
    "# 一応、こっちでも。\n",
    "# print(np.array([[0,1,2],[3,4,5],[6,7,8]]))"
   ]
  },
  {
   "cell_type": "markdown",
   "metadata": {},
   "source": [
    "### Find indices of non-zero elements from [1,2,0,0,4,0] (★☆☆)"
   ]
  },
  {
   "cell_type": "code",
   "execution_count": 10,
   "metadata": {},
   "outputs": [
    {
     "name": "stdout",
     "output_type": "stream",
     "text": [
      "(array([0, 1, 4]),)\n"
     ]
    }
   ],
   "source": [
    "nz = np.nonzero([1,2,0,0,4,0])\n",
    "print(nz)"
   ]
  },
  {
   "cell_type": "markdown",
   "metadata": {},
   "source": [
    "### Create a 3x3 identity matrix (★☆☆)"
   ]
  },
  {
   "cell_type": "code",
   "execution_count": 11,
   "metadata": {},
   "outputs": [
    {
     "name": "stdout",
     "output_type": "stream",
     "text": [
      "[[1. 0. 0.]\n",
      " [0. 1. 0.]\n",
      " [0. 0. 1.]]\n"
     ]
    }
   ],
   "source": [
    "# 単位行列\n",
    "Z = np.eye(3)\n",
    "print(Z)"
   ]
  },
  {
   "cell_type": "markdown",
   "metadata": {},
   "source": [
    "### Create a 3x3x3 array with random values (★☆☆)"
   ]
  },
  {
   "cell_type": "code",
   "execution_count": 12,
   "metadata": {},
   "outputs": [
    {
     "name": "stdout",
     "output_type": "stream",
     "text": [
      "[[[0.10301572 0.31987317 0.29229821]\n",
      "  [0.91690489 0.11891109 0.85130169]\n",
      "  [0.83602769 0.59379181 0.05457459]]\n",
      "\n",
      " [[0.93033446 0.35760525 0.8095513 ]\n",
      "  [0.8695436  0.51158606 0.48328218]\n",
      "  [0.95849285 0.27475055 0.40002692]]\n",
      "\n",
      " [[0.93040382 0.4266408  0.41672793]\n",
      "  [0.85573423 0.66318208 0.77688488]\n",
      "  [0.09421105 0.84499046 0.33472632]]]\n"
     ]
    }
   ],
   "source": [
    "Z = np.random.random([3,3,3])\n",
    "print(Z)"
   ]
  },
  {
   "cell_type": "markdown",
   "metadata": {},
   "source": [
    "### Create a 10x10 array with random values and find the minimum and maximum values (★☆☆)"
   ]
  },
  {
   "cell_type": "code",
   "execution_count": 13,
   "metadata": {},
   "outputs": [
    {
     "name": "stdout",
     "output_type": "stream",
     "text": [
      "min:  0.005462351025345202\n",
      "max:  0.9994228939462118\n"
     ]
    }
   ],
   "source": [
    "Z = np.random.random((10,10))\n",
    "print('min: ', Z.min())\n",
    "print('max: ', Z.max())"
   ]
  },
  {
   "cell_type": "markdown",
   "metadata": {},
   "source": [
    "### Create a random vector of size 30 and find the mean value (★☆☆)"
   ]
  },
  {
   "cell_type": "code",
   "execution_count": 14,
   "metadata": {},
   "outputs": [
    {
     "name": "stdout",
     "output_type": "stream",
     "text": [
      "mean:  0.5395054645537942\n"
     ]
    }
   ],
   "source": [
    "Z = np.random.random(30)\n",
    "print('mean: ', Z.mean())"
   ]
  },
  {
   "cell_type": "markdown",
   "metadata": {},
   "source": [
    "### Create a 2d array with 1 on the border and 0 inside (★☆☆)"
   ]
  },
  {
   "cell_type": "code",
   "execution_count": 15,
   "metadata": {},
   "outputs": [
    {
     "name": "stdout",
     "output_type": "stream",
     "text": [
      "[[1. 1. 1. 1. 1. 1. 1. 1. 1. 1.]\n",
      " [1. 0. 0. 0. 0. 0. 0. 0. 0. 1.]\n",
      " [1. 0. 0. 0. 0. 0. 0. 0. 0. 1.]\n",
      " [1. 0. 0. 0. 0. 0. 0. 0. 0. 1.]\n",
      " [1. 0. 0. 0. 0. 0. 0. 0. 0. 1.]\n",
      " [1. 0. 0. 0. 0. 0. 0. 0. 0. 1.]\n",
      " [1. 0. 0. 0. 0. 0. 0. 0. 0. 1.]\n",
      " [1. 0. 0. 0. 0. 0. 0. 0. 0. 1.]\n",
      " [1. 0. 0. 0. 0. 0. 0. 0. 0. 1.]\n",
      " [1. 1. 1. 1. 1. 1. 1. 1. 1. 1.]]\n"
     ]
    }
   ],
   "source": [
    "Z = np.ones((10,10))\n",
    "Z[1:-1,1:-1] = 0\n",
    "print(Z)"
   ]
  },
  {
   "cell_type": "markdown",
   "metadata": {},
   "source": [
    "### How to add a border (filled with 0's) around an existing array? (★☆☆)"
   ]
  },
  {
   "cell_type": "code",
   "execution_count": 16,
   "metadata": {},
   "outputs": [
    {
     "name": "stdout",
     "output_type": "stream",
     "text": [
      "[[0. 0. 0. 0. 0. 0. 0.]\n",
      " [0. 1. 1. 1. 1. 1. 0.]\n",
      " [0. 1. 1. 1. 1. 1. 0.]\n",
      " [0. 1. 1. 1. 1. 1. 0.]\n",
      " [0. 1. 1. 1. 1. 1. 0.]\n",
      " [0. 1. 1. 1. 1. 1. 0.]\n",
      " [0. 0. 0. 0. 0. 0. 0.]]\n"
     ]
    }
   ],
   "source": [
    "Z = np.ones((5,5))\n",
    "Z = np.pad(Z, pad_width=1, mode='constant')\n",
    "print(Z)"
   ]
  },
  {
   "cell_type": "markdown",
   "metadata": {},
   "source": [
    "### What is the result of the following expression? (★☆☆)"
   ]
  },
  {
   "cell_type": "code",
   "execution_count": 17,
   "metadata": {},
   "outputs": [
    {
     "name": "stdout",
     "output_type": "stream",
     "text": [
      "nan\n",
      "False\n",
      "False\n",
      "nan\n",
      "True\n",
      "False\n"
     ]
    }
   ],
   "source": [
    "print(0 * np.nan)\n",
    "print(np.nan == np.nan)\n",
    "print(np.inf > np.nan)\n",
    "print(np.nan - np.nan)\n",
    "print(np.nan in set([np.nan]))\n",
    "print(0.3 == 3 * 0.1)"
   ]
  },
  {
   "cell_type": "markdown",
   "metadata": {},
   "source": [
    "### Create a 5x5 matrix with values 1,2,3,4 just below the diagonal (★☆☆)"
   ]
  },
  {
   "cell_type": "code",
   "execution_count": 18,
   "metadata": {},
   "outputs": [
    {
     "name": "stdout",
     "output_type": "stream",
     "text": [
      "[[0 0 0 0 0]\n",
      " [1 0 0 0 0]\n",
      " [0 2 0 0 0]\n",
      " [0 0 3 0 0]\n",
      " [0 0 0 4 0]]\n"
     ]
    }
   ],
   "source": [
    "Z = np.diag(1+np.arange(4), k=-1)\n",
    "print(Z)"
   ]
  },
  {
   "cell_type": "markdown",
   "metadata": {},
   "source": [
    "### Create a 8x8 matrix and fill it with a checkerboard pattern (★☆☆)"
   ]
  },
  {
   "cell_type": "code",
   "execution_count": 19,
   "metadata": {},
   "outputs": [
    {
     "name": "stdout",
     "output_type": "stream",
     "text": [
      "[[0 1 0 1 0 1 0 1]\n",
      " [1 0 1 0 1 0 1 0]\n",
      " [0 1 0 1 0 1 0 1]\n",
      " [1 0 1 0 1 0 1 0]\n",
      " [0 1 0 1 0 1 0 1]\n",
      " [1 0 1 0 1 0 1 0]\n",
      " [0 1 0 1 0 1 0 1]\n",
      " [1 0 1 0 1 0 1 0]]\n"
     ]
    }
   ],
   "source": [
    "Z = np.zeros((8,8), dtype=int)\n",
    "Z[1::2,::2] = 1\n",
    "Z[::2,1::2] = 1\n",
    "print(Z)"
   ]
  },
  {
   "cell_type": "markdown",
   "metadata": {},
   "source": [
    "### Consider a (6,7,8) shape array, what is the index (x,y,z) of the 100th element?"
   ]
  },
  {
   "cell_type": "code",
   "execution_count": 20,
   "metadata": {},
   "outputs": [
    {
     "name": "stdout",
     "output_type": "stream",
     "text": [
      "(1, 5, 3)\n"
     ]
    }
   ],
   "source": [
    "print(np.unravel_index(99, (6, 7, 8)))"
   ]
  },
  {
   "cell_type": "markdown",
   "metadata": {},
   "source": [
    "### Create a checkerboard 8x8 matrix using the tile function (★☆☆)"
   ]
  },
  {
   "cell_type": "code",
   "execution_count": 21,
   "metadata": {},
   "outputs": [
    {
     "name": "stdout",
     "output_type": "stream",
     "text": [
      "[[0 1 0 1 0 1 0 1]\n",
      " [1 0 1 0 1 0 1 0]\n",
      " [0 1 0 1 0 1 0 1]\n",
      " [1 0 1 0 1 0 1 0]\n",
      " [0 1 0 1 0 1 0 1]\n",
      " [1 0 1 0 1 0 1 0]\n",
      " [0 1 0 1 0 1 0 1]\n",
      " [1 0 1 0 1 0 1 0]]\n"
     ]
    }
   ],
   "source": [
    "Z = np.tile(np.array([[0,1], [1,0]]), (4,4))\n",
    "print(Z)"
   ]
  },
  {
   "cell_type": "markdown",
   "metadata": {},
   "source": [
    "### Normalize a 5x5 random matrix (★☆☆)"
   ]
  },
  {
   "cell_type": "code",
   "execution_count": 22,
   "metadata": {},
   "outputs": [
    {
     "name": "stdout",
     "output_type": "stream",
     "text": [
      "[[-1.5071509   1.73150117 -0.07556024 -1.19852788 -0.10117527]\n",
      " [-1.33335758  1.20519981  1.54224883  0.92347661  1.00430238]\n",
      " [-1.59851024  0.5953577   0.51917663  1.66923927  0.1735156 ]\n",
      " [-0.39749085 -1.13380403  0.09559887 -0.20962277  0.7436047 ]\n",
      " [-1.31719681 -0.59605608 -0.56269969 -0.49877553  0.32670631]]\n"
     ]
    }
   ],
   "source": [
    "Z = np.random.random((5,5))\n",
    "Z = (Z - np.mean(Z)) / (np.std(Z))\n",
    "print(Z)"
   ]
  },
  {
   "cell_type": "markdown",
   "metadata": {},
   "source": [
    "### Create a custom dtype that describes a color as four unsigned bytes (RGBA) (★☆☆)"
   ]
  },
  {
   "cell_type": "code",
   "execution_count": 23,
   "metadata": {},
   "outputs": [
    {
     "name": "stdout",
     "output_type": "stream",
     "text": [
      "[('r', 'u1'), ('g', 'u1'), ('b', 'u1'), ('a', 'u1')]\n"
     ]
    }
   ],
   "source": [
    "color = np.dtype([('r', np.ubyte, 1),\n",
    "                 ('g', np.ubyte, 1),\n",
    "                 ('b', np.ubyte, 1),\n",
    "                 ('a', np.ubyte, 1)])\n",
    "print(color)"
   ]
  },
  {
   "cell_type": "markdown",
   "metadata": {},
   "source": [
    "### Multiply a 5x3 matrix by a 3x2 matrix (real matrix product) (★☆☆)"
   ]
  },
  {
   "cell_type": "code",
   "execution_count": 24,
   "metadata": {},
   "outputs": [
    {
     "name": "stdout",
     "output_type": "stream",
     "text": [
      "[[3. 3.]\n",
      " [3. 3.]\n",
      " [3. 3.]\n",
      " [3. 3.]\n",
      " [3. 3.]]\n"
     ]
    }
   ],
   "source": [
    "Z = np.dot(np.ones((5,3)), np.ones((3,2)))\n",
    "print(Z)\n",
    "\n"
   ]
  },
  {
   "cell_type": "markdown",
   "metadata": {},
   "source": [
    "### Given a 1D array, negate all elements which are between 3 and 8, in place. (★☆☆)"
   ]
  },
  {
   "cell_type": "code",
   "execution_count": 25,
   "metadata": {},
   "outputs": [
    {
     "name": "stdout",
     "output_type": "stream",
     "text": [
      "[ 0  1  2  3 -4 -5 -6 -7 -8  9 10]\n"
     ]
    }
   ],
   "source": [
    "Z = np.arange(11)\n",
    "Z[(3 < Z) & (Z <= 8)] *= -1\n",
    "print(Z)"
   ]
  }
 ],
 "metadata": {
  "kernelspec": {
   "display_name": "Python 3",
   "language": "python",
   "name": "python3"
  },
  "language_info": {
   "codemirror_mode": {
    "name": "ipython",
    "version": 3
   },
   "file_extension": ".py",
   "mimetype": "text/x-python",
   "name": "python",
   "nbconvert_exporter": "python",
   "pygments_lexer": "ipython3",
   "version": "3.7.2"
  },
  "toc": {
   "base_numbering": 1,
   "nav_menu": {},
   "number_sections": true,
   "sideBar": true,
   "skip_h1_title": false,
   "title_cell": "Table of Contents",
   "title_sidebar": "Contents",
   "toc_cell": true,
   "toc_position": {},
   "toc_section_display": true,
   "toc_window_display": false
  }
 },
 "nbformat": 4,
 "nbformat_minor": 2
}
